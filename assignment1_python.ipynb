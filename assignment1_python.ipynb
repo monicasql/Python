{
 "cells": [
  {
   "cell_type": "markdown",
   "metadata": {},
   "source": [
    "\n",
    "* Read and follow the entire notebook as part of your training.  \n",
    "* In this assignment, something you must do is preceded with 🎯.\n",
    "* 🎯 All code cells are intended for you to run!  Run them all!\n",
    "\n",
    "Goals include:\n",
    "* learning some Jupyter hotkeys\n",
    "* learning some [Python](https://en.wikipedia.org/wiki/Python_%28programming_language%29)\n",
    "* learning some markdown\n",
    "* getting used to Python 3 formatting: `'{}'.format(a)` \n",
    "* previewing functions, because they are super important\n",
    "* giving you an opportunity to share about yourself, your background, and your goals in this class.  This part is important to us as instructors, so we can better serve you.\n",
    "\n"
   ]
  },
  {
   "cell_type": "markdown",
   "metadata": {},
   "source": [
    "(https://automatetheboringstuff.com/chapter8/) is a brief introduction.  These notebooks are great for [short interactive code](https://svds.com/why-notebooks-are-super-charging-data-science/) like that for data science presentations, and story telling.  Command line Python and text files are good for [library code](https://www.learnpython.org/en/Modules_and_Packages) which will be used in many places.  Neither is better or worse -- they are different tools for solving problems."
   ]
  },
  {
   "cell_type": "markdown",
   "metadata": {},
   "source": [
    "### Cell types"
   ]
  },
  {
   "cell_type": "markdown",
   "metadata": {},
   "source": [
    "This cell is a markdown cell, which means it contains text.  You can also link to images, make tables, and much more.  Markdown cells are for narrative supporting code and results."
   ]
  },
  {
   "cell_type": "code",
   "execution_count": 4,
   "metadata": {},
   "outputs": [
    {
     "name": "stdout",
     "output_type": "stream",
     "text": [
      "hello world\n"
     ]
    }
   ],
   "source": [
    "#This cell is a code cell.  Pressing shift-enter or using the \"Run Cell\" button \n",
    "#will evaluate the code in this cell and move to the next one.  \n",
    "#There are also hotkeys to evaluate and stay at the same cell -- control-enter.\n",
    "#The \"Run Cell\" button looks like a little black triangle.\n",
    "# 🎯 Run the code in this cell.\n",
    "\n",
    "print(\"hello world\")"
   ]
  },
  {
   "cell_type": "markdown",
   "metadata": {},
   "source": [
    "The number to the left of the cell increments every time you run it.  🎯 Be sure to reset the kernel and run all cells before committing this semester."
   ]
  },
  {
   "cell_type": "markdown",
   "metadata": {},
   "source": [
    "### Adjust your view\n",
    "\n",
    "Next, let's 🎯 turn on line numbers for code cells.  In the menu bar, you'll find `Toggle Line Numbers` under `View`."
   ]
  },
  {
   "cell_type": "markdown",
   "metadata": {},
   "source": [
    "## A quick Python preview\n",
    "\n",
    "### Variable creation, and some printing\n",
    "\n",
    "Now we'll have you run and edit some trivial Python code."
   ]
  },
  {
   "cell_type": "code",
   "execution_count": null,
   "metadata": {},
   "outputs": [],
   "source": [
    "#create a variable named a, and store the value 3+1 in it"
   ]
  },
  {
   "cell_type": "code",
   "execution_count": null,
   "metadata": {},
   "outputs": [],
   "source": [
    "#display a"
   ]
  },
  {
   "cell_type": "code",
   "execution_count": null,
   "metadata": {},
   "outputs": [],
   "source": [
    "#you can combine multiple objects in the same print statement\n",
    "\n",
    "print(\"three plus one is {}\".format(a))"
   ]
  },
  {
   "cell_type": "markdown",
   "metadata": {},
   "source": [
    "🎯 Change the cell below to output your first and last names."
   ]
  },
  {
   "cell_type": "code",
   "execution_count": null,
   "metadata": {},
   "outputs": [],
   "source": [
    "#Note that the usual Python convention is to separate words in variable names using underscores\n",
    "#The document known as PEP 8 is the official Python style guide:\n",
    "#   visit it at https://www.python.org/dev/peps/pep-0008/\n",
    "#Change the code below to store *your* first and last name.\n",
    "\n",
    "first_name = \"\" # you must change this line\n",
    "last_name = \"\"\n",
    "print(first_name,last_name)"
   ]
  },
  {
   "cell_type": "code",
   "execution_count": null,
   "metadata": {},
   "outputs": [],
   "source": [
    "#We can use the tab or \"\\t\" and newline or \"\\n\" characters to format our output.\n",
    "#Adjust the output below to format the text so that your first and last name appear in the appropriate column.\n",
    "\n",
    "print(\"GivenName\\tSurname\\n{}\\t\\t{}\".format(first_name,last_name))"
   ]
  },
  {
   "cell_type": "markdown",
   "metadata": {},
   "source": [
    "🎯 Insert a new cell below and change it to a markdown cell by using the hotkey sequence \n",
    "1. Ensure this cell is selected -- there should be a border around it.\n",
    "2. `Escape` -- switch *command mode*.  Its opposite is `enter`, which enters edit mode.\n",
    "3. `b` -- adds a cell below the currently selected cell.  there's also `a` for above\n",
    "4. `m` -- changes cell type to Markdown.  `y` changes cell type to code.\n",
    "\n",
    "or mousing to use the dropdown menu at the top of the Jupyter notebook.  [Hotkeys are great]B(https://lifehacker.com/5970089/back-to-the-basics-learn-to-use-keyboard-shortcuts-like-a-ninja), check out [this cheatsheet](https://www.cheatography.com/weidadeyue/cheat-sheets/jupyter-notebook/).\n",
    "\n",
    "🎯 In the markdown cell that you create, explain your process for modifiying the preceding code cell.\n",
    "\n",
    "In general, in your homework for this class, you should use markdown cells to explain or justify your programming choices, and add narrative to the story you are telling by solving the problem."
   ]
  },
  {
   "cell_type": "markdown",
   "metadata": {},
   "source": [
    "***For the previous code, I added two tabs(\\t\\t) after \\n{} (new line) so that the last name aligns with the Surname column. The first {} is for the GivenName and second {} is for the Surname. In order to ensure, the values are aligned, I added one tab first \\t and then added another.***"
   ]
  },
  {
   "cell_type": "code",
   "execution_count": null,
   "metadata": {},
   "outputs": [],
   "source": [
    "#We can also combine strings using the + operator, but this is not preferred because it gets cumbersome quickly.\n",
    "#Adjust the output below so that it includes a space between your first and last name.\n",
    "print(first_name+ ' ' +last_name)"
   ]
  },
  {
   "cell_type": "markdown",
   "metadata": {},
   "source": [
    "You can see a list of all of the functions associated to an object by typing the object's name followed by a period, then hitting `tab`.  Tab also compeletes on variable names you have in memory.  Tab completion rules!  This also works in R, the command line iPython, and many other environments.  \n",
    "\n",
    "🎯 Save yourself typing by using tab completion."
   ]
  },
  {
   "cell_type": "code",
   "execution_count": null,
   "metadata": {},
   "outputs": [],
   "source": [
    "#Find a function that will convert your given name to all uppercase letters.\n",
    "# 🎯 put a period after first_name, and then push tab to explore.\n",
    "# Then evaluate (run) your function so we can see the results.\n",
    "first_name.upper()"
   ]
  },
  {
   "cell_type": "markdown",
   "metadata": {},
   "source": [
    "### Functions"
   ]
  },
  {
   "cell_type": "markdown",
   "metadata": {},
   "source": [
    "I want to introduce functions in Python straight away.  Any non-trivial program uses them.  You should learn how to use them.  If you ever find yourself writing the same code twice in a project, it's a sign that you should turn that code into a function, and call it when you need it.  Good functions are named by the action they accomplish.  It takes practice, but it's soooo worth it!"
   ]
  },
  {
   "cell_type": "markdown",
   "metadata": {},
   "source": [
    "#### Syntax"
   ]
  },
  {
   "cell_type": "code",
   "execution_count": null,
   "metadata": {},
   "outputs": [],
   "source": [
    "def foo():\n",
    "    return 42"
   ]
  },
  {
   "cell_type": "markdown",
   "metadata": {},
   "source": [
    "The above code cell defines a function called `foo`.  Why foo? Because what it does isn't important in this context, it's just a function.  My point is how to define a function, not what any particular function does.  The name `foo` is typical of this.  When you see `foo`, or `bar`, or `baz`, it's a sign that the content of the thing isn't important, and that it's an arbitrary `foo`.  \n",
    "\n",
    "Evaluating this cell has no visible byproduct.  It invisibly defines a function called `foo` that lives in memory, and can now be called, until the Python kernel is reset and memory cleared. If that happens, you have to re-run the cell to make the function live again."
   ]
  },
  {
   "cell_type": "markdown",
   "metadata": {},
   "source": [
    "#### Keywords and symbols I just used\n",
    "\n",
    "* `def` -- Python keyword indicating that the thing that follows it is a function.\n",
    "* `:` -- The colon delimiter is important in Python.  You'll get an error without it.\n",
    "* `()` -- Required for a function, the stuff inside indicates what the function needs as arguments to operate.  There is nothing in this set of parentheses, hence this function requires 0 arguments.  \n",
    "* `tabs or spaces` -- There are four spaces indenting the line following the colon.  You need those to be in the [scope](https://python-textbok.readthedocs.io/en/1.0/Variables_and_Scope.html) of the function `foo`.\n",
    "* `return` -- What is the value that should be given back to the caller, to possibly capture?\n",
    "* `42` -- The value $42$ should be given back.  Real functions don't hardcode a single value like this, typically, but instead construct the things they give back."
   ]
  },
  {
   "cell_type": "markdown",
   "metadata": {},
   "source": [
    "#### Calling foo\n",
    "\n",
    "Let's call our arbitrary function.  It takes 0 arguments, so is called with empty parens:"
   ]
  },
  {
   "cell_type": "code",
   "execution_count": null,
   "metadata": {},
   "outputs": [],
   "source": [
    "foo()"
   ]
  },
  {
   "cell_type": "markdown",
   "metadata": {},
   "source": [
    "🎯 What value did you get?  \n",
    "\n",
    "It printed to the screen in `Out[n]` because you didn't capture the value into a variable, or use the function call in a place where a value was needed.  \n",
    "\n",
    "This next cell calls `foo` but stores the result in a variable, so the value isn't printed.  This is ok.  "
   ]
  },
  {
   "cell_type": "code",
   "execution_count": null,
   "metadata": {},
   "outputs": [],
   "source": [
    "v = foo()"
   ]
  },
  {
   "cell_type": "markdown",
   "metadata": {},
   "source": [
    "🎯 Did you run the cell?  See, no printing!\n",
    "\n",
    "Most of the time, you don't want to print stuff to the screen.  At first, as you learn, you'll print a lot of stuff.  But know that's only because you are training.  Real code rarely `print`s, but mostly just `return`s."
   ]
  },
  {
   "cell_type": "markdown",
   "metadata": {},
   "source": [
    "#### Another example\n",
    "\n",
    "Now, I provide a less useless example.  \n",
    "\n",
    "First, we define the function.  Remember, you have to run the cell to define the function.  You only have to run the cell if \n",
    "* it hasn't been run since you (re)started your kernel\n",
    "* you changed the code in the cell"
   ]
  },
  {
   "cell_type": "code",
   "execution_count": null,
   "metadata": {},
   "outputs": [],
   "source": [
    "import random\n",
    "\n",
    "def make_message(first, last):\n",
    "    if first in [\"Given\",\"\"] or last in [\"Surname\",\"\"]:\n",
    "        raise ValueError(\"Unchanged or empty first or last name\")\n",
    "    return \"Hi, {} {}, it's nice to meet you!  I'm Robot #{}\".format(first,last,random.randint(0,1000000))"
   ]
  },
  {
   "cell_type": "markdown",
   "metadata": {},
   "source": [
    "Next, we will make a call to the function."
   ]
  },
  {
   "cell_type": "code",
   "execution_count": null,
   "metadata": {},
   "outputs": [],
   "source": [
    "var = make_message(first_name, last_name)"
   ]
  },
  {
   "cell_type": "markdown",
   "metadata": {},
   "source": [
    "#Print the variable by adding code cell below this( hint:- Click on Insert above and click Insert cell below and then under Cell - choose celltype = Code"
   ]
  },
  {
   "cell_type": "markdown",
   "metadata": {},
   "source": [
    "## Practice\n",
    "\n",
    "If you play around in Python as part of this assignment, please consider using the space here so that we can see what you were up to!"
   ]
  },
  {
   "cell_type": "code",
   "execution_count": null,
   "metadata": {},
   "outputs": [],
   "source": [
    "import numpy as np\n",
    "data = {i: np.random.randn() for i in range(7)}\n",
    "data"
   ]
  },
  {
   "cell_type": "code",
   "execution_count": null,
   "metadata": {},
   "outputs": [],
   "source": [
    "import time\n",
    "import datetime\n",
    "from datetime import date\n",
    "today = date.today()\n",
    "today\n",
    "spring_start_date = date(today.year,3,20)\n",
    "if spring_start_date < today:\n",
    "    spring_start_date = spring_start_date.replace(year= today.date + 1)\n",
    "spring_start_date\n",
    "datetime.date(2019,3,20)\n",
    "time_to_spring = abs(spring_start_date - today)\n",
    "time_to_spring.days"
   ]
  }
 ],
 "metadata": {
  "anaconda-cloud": {},
  "kernelspec": {
   "display_name": "Python 3",
   "language": "python",
   "name": "python3"
  },
  "language_info": {
   "codemirror_mode": {
    "name": "ipython",
    "version": 3
   },
   "file_extension": ".py",
   "mimetype": "text/x-python",
   "name": "python",
   "nbconvert_exporter": "python",
   "pygments_lexer": "ipython3",
   "version": "3.7.1"
  }
 },
 "nbformat": 4,
 "nbformat_minor": 1
}
