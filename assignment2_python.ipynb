{
 "cells": [
  {
   "cell_type": "markdown",
   "metadata": {},
   "source": [
    "The second assignment has you play with control flow, to solve two classic problems in the training of a programmer.  \n",
    "1. FizzBuzz, with a woof modification.  This one trains you on if/elseif/else, and some arithmetic operators.\n",
    "2. Mortgage calculator.  Good for learning some formatting, looping, and checking for problematic input."
   ]
  },
  {
   "cell_type": "markdown",
   "metadata": {},
   "source": [
    "## Problem 1(a).  Fizz, Buzz, Woof.\n",
    "\n",
    "🎯 Write a program that prints the numbers from 1 to 150, except . . .\n",
    "\n",
    "* When you get a number that's divisible by 3, print \"Fizz\" instead.\n",
    "* When you get a number that's divisible by 5, print \"Buzz\" instead.\n",
    "* When you get a number that's divisible by 7, print \"Woof\" instead.\n",
    "\n",
    "If a number is divisible by several of these values, print the appropriate words in the corresponding order.  For example, for 15 you should print \"Fizz Buzz\", for 35 you should print \"Buzz Woof\", and for 105 you should print \"Fizz Buzz Woof\".\n",
    "\n",
    "🎯 Consider learning how to write Python functions now, to help reduce the overall number of lines of code you write.  Functions come next lesson, but are one of the fundamental programming constructs in any language.  Embrace them."
   ]
  },
  {
   "cell_type": "code",
   "execution_count": null,
   "metadata": {},
   "outputs": [],
   "source": []
  },
  {
   "cell_type": "markdown",
   "metadata": {},
   "source": [
    "## Problem 1(b) [Optional].  Direction of Play.\n",
    "\n",
    "Fizz, Buzz, Woof originates as a children's game.  The children sit in a circle.  Initially, play moves clockwise, with each child saying a number in turn.  After \"Fizz\", play switches direction, and after \"Buzz\", play switches direction again.  The direction of play continues to switch each time an *odd* number of non-integer words is spoken.  However, two-word substitutions, such as \"Fizz Buzz\", do *not* change direction of play, but three-word substitutions *do* change the direction of play.\n",
    "\n",
    "🎯 Modify your program from 1(a) so that it indicates the direction of play.  For example, your output should begin:\n",
    "\n",
    "```\n",
    "Clockwise!\n",
    "1\n",
    "2\n",
    "Fizz\n",
    "Counterclockwise!\n",
    "4\n",
    "Buzz\n",
    "Clockwise!\n",
    "Fizz\n",
    "Counterclockwise!\n",
    "Woof\n",
    "Clockwise!\n",
    "8\n",
    "Fizz\n",
    "Counterclockwise!\n",
    "Buzz\n",
    "Clockwise!\n",
    "11\n",
    "Fizz\n",
    "Counterclockwise!\n",
    "13\n",
    "Woof\n",
    "Clockwise!\n",
    "Fizz Buzz\n",
    "16\n",
    "```"
   ]
  },
  {
   "cell_type": "code",
   "execution_count": null,
   "metadata": {},
   "outputs": [],
   "source": []
  },
  {
   "cell_type": "markdown",
   "metadata": {},
   "source": [
    "---\n",
    "\n",
    "## Problem 2(a).  Mortgage Calculator.\n",
    "\n",
    "Buying a house is one of the biggest financial transactions that many people ever undertake.  Even a small difference in interest rates or monthly payments can make a large difference in how much you ultimately pay for your mortgage.  However, these details are often buried in masses of paperwork--so it pays to be able to calculate the long-term cost of a mortgage yourself.\n",
    "\n",
    "In a mortgage, the bank lends you a certain amount of principal to purchase a house at a certain interest rate.  Every month, the amount you owe (the balance) first increases due to interest:  1/12 of the interest rate times the current balance.  Then the balance decreases due to your monthly payment.\n",
    "\n",
    "For example, suppose you borrow $\\$100,000$ at $5\\%$ annual interest, with $\\$500$ monthly payments.  In the first month, the interest increases the balance by $\\$416.67$, and then your payment reduces it by $\\$500$, for a remaining balance of $\\$99,916.67$.  In the second month, the interest charge is $\\$416.32$, and the remaining balance is \n",
    "$\\$99,832.99$.\n",
    "\n",
    "If you continue this process, you get an amortization table like this:\n",
    " \n",
    "```\n",
    "month\t payment\t interest\t balance\t\n",
    "1 \t     500 \t\t 416.67 \t 99916.67\n",
    "2 \t     500 \t\t 416.32 \t 99832.99\n",
    "3 \t     500 \t\t 415.97 \t 99748.96\n",
    "4 \t     500 \t\t 415.62 \t 99664.58\n",
    "5 \t     500 \t\t 415.27 \t 99579.85\n",
    "6 \t     500 \t\t 414.92 \t 99494.76\n",
    "7 \t     500 \t\t 414.56 \t 99409.32\n",
    "8 \t     500 \t\t 414.21 \t 99323.53\n",
    "9 \t     500 \t\t 413.85 \t 99237.38\n",
    "10 \t    500 \t\t 413.49 \t 99150.87\n",
    "\n",
    "```\n",
    " \n",
    "You can also compute the total amount of time and money to pay off the mortgage.  In this example, it takes 35 years and 11 months, and the total amount paid is approximately $\\$215,458.84$.\n",
    " \n",
    "---\n",
    "\n",
    "🎯 Create a mortgage calculator that takes as input the *principal loan amount*, *interest rate*, and *monthly payment*.  As output, your calculator should generate an *amortization table*, and compute how many *years and months* it took to pay off the mortgage, and report the *total amount of payments* over that time.\n",
    "\n",
    "\n",
    "###### Things to consider when implementing the calculator\n",
    "1.  For dollar values, only display two digits of precision after the decimal point.  \n",
    "  * You can assume that the bank will not round internally!  \n",
    "  * You must not round internally either!)\n",
    "2.  The final payment will almost certainly be smaller than the others, so be careful to check for that case so you don't end up with a negative balance.  The final balance must be 0.\n",
    "3.  If the monthly payment is too small, the balance will go up every month!  \n",
    "  * If this happens, the program should stop and display an appropriate error message.  \n",
    "  * Manually stopping your code in this case is not considered a solution -- your *submitted* code must detect the problem itself, and not enter an infinite loop.\n",
    "4.  If you accidentally create an infinite loop during development and testing, interrupt or restart the kernel.  See the `Kernel` menu up top.\n",
    "5.  Use the modulus or $\\%$  operator to separate the years and months.\n",
    "6.  Your program should only display the columns requested, and the rows should be formatted to appear under the appropriate heading.\n",
    "7.  Because this is an iPython notebook, which is inherently interactive, don't use the `input` function to make your code interactive.  Instead, set the values of the input (such as the interest rate) as variables defined at the top of your code.  Alternatively, if you write one or more functions, you can set the input as the arguments of your function(s).\n"
   ]
  },
  {
   "cell_type": "code",
   "execution_count": null,
   "metadata": {},
   "outputs": [],
   "source": []
  },
  {
   "cell_type": "markdown",
   "metadata": {},
   "source": [
    "## Problem 2(b). Testing.\n",
    "\n",
    "When writing complicated code, it is always a good idea to test your code on simple examples.  \n",
    "\n",
    "🎯 Use the following test cases to make sure your code matches calculations you can perform by hand. (Of course, if it does not match, please fix your code.)  \n",
    "🎯 For each test case, print the results.\n",
    "\n",
    "For each, use $\\$500$ for the principal, and an annual interest rate of $5\\%$.\n",
    "1. Monthly Payment: $\\$100$  (Total paid should be $\\$506.35$.)\n",
    "2. Monthly Payment: $\\$500$  (Total paid should be $\\$502.09$.)\n",
    "3. Monthly Payment: $\\$1$  (Code should display a suitable error message and quit gracefully.)"
   ]
  },
  {
   "cell_type": "raw",
   "metadata": {},
   "source": []
  },
  {
   "cell_type": "markdown",
   "metadata": {},
   "source": [
    "## Problem 2(c). Calculator Analysis.\n",
    "\n",
    "🎯 Answer the following questions in a markdown cell.\n",
    "\n",
    "1.  Describe in your own words how the mortgage calculator works.  What are the steps you are computing?  What are you keeping track of in each iteration?\n",
    "2.\tSuppose you had a mortgage with a principal of $\\$250,000$, an interest rate of $4\\%$, and a monthly payment of $\\$1000$.\n",
    "  * How long would it take you to pay it off?  \n",
    "  * How much would you have paid in total?\n",
    "  * Print the amortization schedule."
   ]
  },
  {
   "cell_type": "markdown",
   "metadata": {
    "collapsed": true
   },
   "source": [
    "Answer: \n",
    "1.Step 1:- Define input varibles- The mortgage calculator takes the inputs for principal loan amount, interest rate and monthly payment amount. \n",
    "Step 2:- Define output variables - Calculated as part of the amortization schedule. Number of months (initially set to 0 and incremented as part of the loop) and total loan amount paid (initially set to the principal loan amount and calculated inside the loop).\n",
    "Step 3:- The amortization schedule calculator will then calculate the payment, interest amount and balance loan amount for each month until the balance loan amount is fully paid off.\n",
    "\n",
    "2.For a mortgage loan with a principal amount of 250000 with an interest rate of 4% and a monthly payemnt of 1000 dollars, it would take 44 years and 11 months to pay off the loan and total amount paid would be $538423.63. \n",
    "\n",
    "\n"
   ]
  },
  {
   "cell_type": "raw",
   "metadata": {},
   "source": []
  },
  {
   "cell_type": "code",
   "execution_count": null,
   "metadata": {},
   "outputs": [],
   "source": []
  }
 ],
 "metadata": {
  "kernelspec": {
   "display_name": "Python 3",
   "language": "python",
   "name": "python3"
  },
  "language_info": {
   "codemirror_mode": {
    "name": "ipython",
    "version": 3
   },
   "file_extension": ".py",
   "mimetype": "text/x-python",
   "name": "python",
   "nbconvert_exporter": "python",
   "pygments_lexer": "ipython3",
   "version": "3.7.1"
  }
 },
 "nbformat": 4,
 "nbformat_minor": 1
}
